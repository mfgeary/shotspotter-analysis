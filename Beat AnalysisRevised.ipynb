{
 "cells": [
  {
   "cell_type": "markdown",
   "metadata": {},
   "source": [
    "<h3> DATA ANALYSIS - Beats</h3>"
   ]
  },
  {
   "cell_type": "markdown",
   "metadata": {},
   "source": [
    "1) Import Libraries"
   ]
  },
  {
   "cell_type": "code",
   "execution_count": 1,
   "metadata": {},
   "outputs": [],
   "source": [
    "import numpy as np\n",
    "import pandas as pd\n",
    "from matplotlib import pyplot as plt"
   ]
  },
  {
   "cell_type": "markdown",
   "metadata": {},
   "source": [
    "2) Specify the Parameters"
   ]
  },
  {
   "cell_type": "code",
   "execution_count": 2,
   "metadata": {},
   "outputs": [],
   "source": [
    "district=3.0  #police district\n",
    "delta=.3  #distance threshold\n",
    "tau=30  #time threshold\n",
    "beat=334 #beat"
   ]
  },
  {
   "cell_type": "markdown",
   "metadata": {},
   "source": [
    "3) Import the Chicago shotspotter data and filter for the specified district."
   ]
  },
  {
   "cell_type": "code",
   "execution_count": 3,
   "metadata": {},
   "outputs": [
    {
     "data": {
      "text/html": [
       "<div>\n",
       "<style scoped>\n",
       "    .dataframe tbody tr th:only-of-type {\n",
       "        vertical-align: middle;\n",
       "    }\n",
       "\n",
       "    .dataframe tbody tr th {\n",
       "        vertical-align: top;\n",
       "    }\n",
       "\n",
       "    .dataframe thead th {\n",
       "        text-align: right;\n",
       "    }\n",
       "</style>\n",
       "<table border=\"1\" class=\"dataframe\">\n",
       "  <thead>\n",
       "    <tr style=\"text-align: right;\">\n",
       "      <th></th>\n",
       "      <th>DATE</th>\n",
       "      <th>BLOCK</th>\n",
       "      <th>ZIP_CODE</th>\n",
       "      <th>WARD</th>\n",
       "      <th>COMMUNITY_AREA</th>\n",
       "      <th>AREA</th>\n",
       "      <th>DISTRICT</th>\n",
       "      <th>BEAT</th>\n",
       "      <th>STREET_OUTREACH_ORGANIZATION</th>\n",
       "      <th>UNIQUE_ID</th>\n",
       "      <th>...</th>\n",
       "      <th>INCIDENT_TYPE_DESCRIPTION</th>\n",
       "      <th>ROUNDS</th>\n",
       "      <th>ILLINOIS_HOUSE_DISTRICT</th>\n",
       "      <th>ILLINOIS_SENATE_DISTRICT</th>\n",
       "      <th>LATITUDE</th>\n",
       "      <th>LONGITUDE</th>\n",
       "      <th>LOCATION</th>\n",
       "      <th>time</th>\n",
       "      <th>day</th>\n",
       "      <th>YEAR</th>\n",
       "    </tr>\n",
       "  </thead>\n",
       "  <tbody>\n",
       "    <tr>\n",
       "      <th>0</th>\n",
       "      <td>1/29/2018 15:27</td>\n",
       "      <td>NaN</td>\n",
       "      <td>60637.0</td>\n",
       "      <td>20.0</td>\n",
       "      <td>GREATER GRAND CROSSING</td>\n",
       "      <td>1.0</td>\n",
       "      <td>3.0</td>\n",
       "      <td>322.0</td>\n",
       "      <td>Acclivus Greater Grand Crossing</td>\n",
       "      <td>SST-1628</td>\n",
       "      <td>...</td>\n",
       "      <td>SINGLE GUNSHOT</td>\n",
       "      <td>1</td>\n",
       "      <td>32.0</td>\n",
       "      <td>16.0</td>\n",
       "      <td>41.772790</td>\n",
       "      <td>-87.618193</td>\n",
       "      <td>POINT (-87.61819334612 41.772790345858)</td>\n",
       "      <td>15:27</td>\n",
       "      <td>29</td>\n",
       "      <td>2018.0</td>\n",
       "    </tr>\n",
       "    <tr>\n",
       "      <th>1</th>\n",
       "      <td>1/30/2018 18:43</td>\n",
       "      <td>7000  S STONY ISLAND</td>\n",
       "      <td>60649.0</td>\n",
       "      <td>5.0</td>\n",
       "      <td>SOUTH SHORE</td>\n",
       "      <td>1.0</td>\n",
       "      <td>3.0</td>\n",
       "      <td>332.0</td>\n",
       "      <td>Claretian Associates South Shore</td>\n",
       "      <td>SST-1662</td>\n",
       "      <td>...</td>\n",
       "      <td>SINGLE GUNSHOT</td>\n",
       "      <td>1</td>\n",
       "      <td>26.0</td>\n",
       "      <td>13.0</td>\n",
       "      <td>41.766797</td>\n",
       "      <td>-87.585398</td>\n",
       "      <td>POINT (-87.58539765388 41.766797345858)</td>\n",
       "      <td>18:43</td>\n",
       "      <td>30</td>\n",
       "      <td>2018.0</td>\n",
       "    </tr>\n",
       "    <tr>\n",
       "      <th>2</th>\n",
       "      <td>1/31/2018 1:45</td>\n",
       "      <td>NaN</td>\n",
       "      <td>60649.0</td>\n",
       "      <td>5.0</td>\n",
       "      <td>SOUTH SHORE</td>\n",
       "      <td>1.0</td>\n",
       "      <td>3.0</td>\n",
       "      <td>332.0</td>\n",
       "      <td>Claretian Associates South Shore</td>\n",
       "      <td>SST-1670</td>\n",
       "      <td>...</td>\n",
       "      <td>GUNSHOT OR FIRECRACKER</td>\n",
       "      <td>1</td>\n",
       "      <td>25.0</td>\n",
       "      <td>13.0</td>\n",
       "      <td>41.773760</td>\n",
       "      <td>-87.581308</td>\n",
       "      <td>POINT (-87.581307547471 41.773759668947)</td>\n",
       "      <td>1:45</td>\n",
       "      <td>31</td>\n",
       "      <td>2018.0</td>\n",
       "    </tr>\n",
       "    <tr>\n",
       "      <th>3</th>\n",
       "      <td>2/1/2018 17:51</td>\n",
       "      <td>NaN</td>\n",
       "      <td>60637.0</td>\n",
       "      <td>20.0</td>\n",
       "      <td>WOODLAWN</td>\n",
       "      <td>1.0</td>\n",
       "      <td>3.0</td>\n",
       "      <td>312.0</td>\n",
       "      <td>Project H.O.O.D. Woodlawn</td>\n",
       "      <td>SST-1715</td>\n",
       "      <td>...</td>\n",
       "      <td>GUNSHOT OR FIRECRACKER</td>\n",
       "      <td>12</td>\n",
       "      <td>5.0</td>\n",
       "      <td>3.0</td>\n",
       "      <td>41.778602</td>\n",
       "      <td>-87.609718</td>\n",
       "      <td>POINT (-87.609718 41.7786015)</td>\n",
       "      <td>17:51</td>\n",
       "      <td>1</td>\n",
       "      <td>2018.0</td>\n",
       "    </tr>\n",
       "    <tr>\n",
       "      <th>4</th>\n",
       "      <td>2/1/2018 19:29</td>\n",
       "      <td>6600  S LANGLEY AVE</td>\n",
       "      <td>60637.0</td>\n",
       "      <td>20.0</td>\n",
       "      <td>WOODLAWN</td>\n",
       "      <td>1.0</td>\n",
       "      <td>3.0</td>\n",
       "      <td>321.0</td>\n",
       "      <td>None</td>\n",
       "      <td>SST-1720</td>\n",
       "      <td>...</td>\n",
       "      <td>MULTIPLE GUNSHOTS</td>\n",
       "      <td>7</td>\n",
       "      <td>5.0</td>\n",
       "      <td>3.0</td>\n",
       "      <td>41.773794</td>\n",
       "      <td>-87.608251</td>\n",
       "      <td>POINT (-87.608250547471 41.773793668947)</td>\n",
       "      <td>19:29</td>\n",
       "      <td>1</td>\n",
       "      <td>2018.0</td>\n",
       "    </tr>\n",
       "  </tbody>\n",
       "</table>\n",
       "<p>5 rows × 23 columns</p>\n",
       "</div>"
      ],
      "text/plain": [
       "              DATE                 BLOCK  ZIP_CODE  WARD  \\\n",
       "0  1/29/2018 15:27                   NaN   60637.0  20.0   \n",
       "1  1/30/2018 18:43  7000  S STONY ISLAND   60649.0   5.0   \n",
       "2   1/31/2018 1:45                   NaN   60649.0   5.0   \n",
       "3   2/1/2018 17:51                   NaN   60637.0  20.0   \n",
       "4   2/1/2018 19:29   6600  S LANGLEY AVE   60637.0  20.0   \n",
       "\n",
       "           COMMUNITY_AREA  AREA  DISTRICT   BEAT  \\\n",
       "0  GREATER GRAND CROSSING   1.0       3.0  322.0   \n",
       "1             SOUTH SHORE   1.0       3.0  332.0   \n",
       "2             SOUTH SHORE   1.0       3.0  332.0   \n",
       "3                WOODLAWN   1.0       3.0  312.0   \n",
       "4                WOODLAWN   1.0       3.0  321.0   \n",
       "\n",
       "       STREET_OUTREACH_ORGANIZATION UNIQUE_ID   ...    \\\n",
       "0   Acclivus Greater Grand Crossing  SST-1628   ...     \n",
       "1  Claretian Associates South Shore  SST-1662   ...     \n",
       "2  Claretian Associates South Shore  SST-1670   ...     \n",
       "3         Project H.O.O.D. Woodlawn  SST-1715   ...     \n",
       "4                              None  SST-1720   ...     \n",
       "\n",
       "   INCIDENT_TYPE_DESCRIPTION  ROUNDS  ILLINOIS_HOUSE_DISTRICT  \\\n",
       "0             SINGLE GUNSHOT       1                     32.0   \n",
       "1             SINGLE GUNSHOT       1                     26.0   \n",
       "2     GUNSHOT OR FIRECRACKER       1                     25.0   \n",
       "3     GUNSHOT OR FIRECRACKER      12                      5.0   \n",
       "4          MULTIPLE GUNSHOTS       7                      5.0   \n",
       "\n",
       "  ILLINOIS_SENATE_DISTRICT   LATITUDE  LONGITUDE  \\\n",
       "0                     16.0  41.772790 -87.618193   \n",
       "1                     13.0  41.766797 -87.585398   \n",
       "2                     13.0  41.773760 -87.581308   \n",
       "3                      3.0  41.778602 -87.609718   \n",
       "4                      3.0  41.773794 -87.608251   \n",
       "\n",
       "                                   LOCATION   time  day    YEAR  \n",
       "0   POINT (-87.61819334612 41.772790345858)  15:27   29  2018.0  \n",
       "1   POINT (-87.58539765388 41.766797345858)  18:43   30  2018.0  \n",
       "2  POINT (-87.581307547471 41.773759668947)   1:45   31  2018.0  \n",
       "3             POINT (-87.609718 41.7786015)  17:51    1  2018.0  \n",
       "4  POINT (-87.608250547471 41.773793668947)  19:29    1  2018.0  \n",
       "\n",
       "[5 rows x 23 columns]"
      ]
     },
     "execution_count": 3,
     "metadata": {},
     "output_type": "execute_result"
    }
   ],
   "source": [
    "shot_data_raw = pd.read_csv('Shotspotter_data.csv')\n",
    "shot_data_raw=shot_data_raw[shot_data_raw[\"DISTRICT\"]==district]\n",
    "for i in shot_data_raw.index:\n",
    "    x=shot_data_raw.loc[i,\"DATE\"]\n",
    "    x1=x.split(' ')\n",
    "    x2=x1[0].split('/')\n",
    "    shot_data_raw.loc[i,\"time\"]=x1[1]\n",
    "    shot_data_raw.loc[i,'MONTH'] =int(x2[0])\n",
    "    shot_data_raw.loc[i,\"day\"]=x2[1]\n",
    "    shot_data_raw.loc[i,\"YEAR\"]=int(x2[2])\n",
    "shot_data_raw=shot_data_raw.reset_index(drop=True)\n",
    "shot_data_raw.head(5)"
   ]
  },
  {
   "cell_type": "markdown",
   "metadata": {},
   "source": [
    "3) Streamline the dataframe."
   ]
  },
  {
   "cell_type": "code",
   "execution_count": 4,
   "metadata": {},
   "outputs": [
    {
     "data": {
      "text/html": [
       "<div>\n",
       "<style scoped>\n",
       "    .dataframe tbody tr th:only-of-type {\n",
       "        vertical-align: middle;\n",
       "    }\n",
       "\n",
       "    .dataframe tbody tr th {\n",
       "        vertical-align: top;\n",
       "    }\n",
       "\n",
       "    .dataframe thead th {\n",
       "        text-align: right;\n",
       "    }\n",
       "</style>\n",
       "<table border=\"1\" class=\"dataframe\">\n",
       "  <thead>\n",
       "    <tr style=\"text-align: right;\">\n",
       "      <th></th>\n",
       "      <th>DATE</th>\n",
       "      <th>BEAT</th>\n",
       "      <th>YEAR</th>\n",
       "      <th>MONTH</th>\n",
       "      <th>LATITUDE</th>\n",
       "      <th>LONGITUDE</th>\n",
       "      <th>LOCATION</th>\n",
       "    </tr>\n",
       "  </thead>\n",
       "  <tbody>\n",
       "    <tr>\n",
       "      <th>0</th>\n",
       "      <td>1/29/2018 15:27</td>\n",
       "      <td>322.0</td>\n",
       "      <td>2018.0</td>\n",
       "      <td>1</td>\n",
       "      <td>41.772790</td>\n",
       "      <td>-87.618193</td>\n",
       "      <td>POINT (-87.61819334612 41.772790345858)</td>\n",
       "    </tr>\n",
       "    <tr>\n",
       "      <th>1</th>\n",
       "      <td>1/30/2018 18:43</td>\n",
       "      <td>332.0</td>\n",
       "      <td>2018.0</td>\n",
       "      <td>1</td>\n",
       "      <td>41.766797</td>\n",
       "      <td>-87.585398</td>\n",
       "      <td>POINT (-87.58539765388 41.766797345858)</td>\n",
       "    </tr>\n",
       "    <tr>\n",
       "      <th>2</th>\n",
       "      <td>1/31/2018 1:45</td>\n",
       "      <td>332.0</td>\n",
       "      <td>2018.0</td>\n",
       "      <td>1</td>\n",
       "      <td>41.773760</td>\n",
       "      <td>-87.581308</td>\n",
       "      <td>POINT (-87.581307547471 41.773759668947)</td>\n",
       "    </tr>\n",
       "    <tr>\n",
       "      <th>3</th>\n",
       "      <td>2/1/2018 17:51</td>\n",
       "      <td>312.0</td>\n",
       "      <td>2018.0</td>\n",
       "      <td>2</td>\n",
       "      <td>41.778602</td>\n",
       "      <td>-87.609718</td>\n",
       "      <td>POINT (-87.609718 41.7786015)</td>\n",
       "    </tr>\n",
       "    <tr>\n",
       "      <th>4</th>\n",
       "      <td>2/1/2018 19:29</td>\n",
       "      <td>321.0</td>\n",
       "      <td>2018.0</td>\n",
       "      <td>2</td>\n",
       "      <td>41.773794</td>\n",
       "      <td>-87.608251</td>\n",
       "      <td>POINT (-87.608250547471 41.773793668947)</td>\n",
       "    </tr>\n",
       "  </tbody>\n",
       "</table>\n",
       "</div>"
      ],
      "text/plain": [
       "              DATE   BEAT    YEAR  MONTH   LATITUDE  LONGITUDE  \\\n",
       "0  1/29/2018 15:27  322.0  2018.0      1  41.772790 -87.618193   \n",
       "1  1/30/2018 18:43  332.0  2018.0      1  41.766797 -87.585398   \n",
       "2   1/31/2018 1:45  332.0  2018.0      1  41.773760 -87.581308   \n",
       "3   2/1/2018 17:51  312.0  2018.0      2  41.778602 -87.609718   \n",
       "4   2/1/2018 19:29  321.0  2018.0      2  41.773794 -87.608251   \n",
       "\n",
       "                                   LOCATION  \n",
       "0   POINT (-87.61819334612 41.772790345858)  \n",
       "1   POINT (-87.58539765388 41.766797345858)  \n",
       "2  POINT (-87.581307547471 41.773759668947)  \n",
       "3             POINT (-87.609718 41.7786015)  \n",
       "4  POINT (-87.608250547471 41.773793668947)  "
      ]
     },
     "execution_count": 4,
     "metadata": {},
     "output_type": "execute_result"
    }
   ],
   "source": [
    "shot_data_raw=shot_data_raw[[\"DATE\",\"BEAT\", \"YEAR\",\"MONTH\",\"LATITUDE\",\"LONGITUDE\",\"LOCATION\"]]\n",
    "shot_data_raw.head(5)"
   ]
  },
  {
   "cell_type": "markdown",
   "metadata": {},
   "source": [
    "4) Find the dimensions of the data"
   ]
  },
  {
   "cell_type": "code",
   "execution_count": 5,
   "metadata": {},
   "outputs": [
    {
     "data": {
      "text/html": [
       "<div>\n",
       "<style scoped>\n",
       "    .dataframe tbody tr th:only-of-type {\n",
       "        vertical-align: middle;\n",
       "    }\n",
       "\n",
       "    .dataframe tbody tr th {\n",
       "        vertical-align: top;\n",
       "    }\n",
       "\n",
       "    .dataframe thead th {\n",
       "        text-align: right;\n",
       "    }\n",
       "</style>\n",
       "<table border=\"1\" class=\"dataframe\">\n",
       "  <thead>\n",
       "    <tr style=\"text-align: right;\">\n",
       "      <th></th>\n",
       "      <th>DATE</th>\n",
       "      <th>BEAT</th>\n",
       "      <th>YEAR</th>\n",
       "      <th>MONTH</th>\n",
       "      <th>LATITUDE</th>\n",
       "      <th>LONGITUDE</th>\n",
       "      <th>LOCATION</th>\n",
       "    </tr>\n",
       "  </thead>\n",
       "  <tbody>\n",
       "    <tr>\n",
       "      <th>0</th>\n",
       "      <td>1/29/2018 15:27</td>\n",
       "      <td>322.0</td>\n",
       "      <td>2018.0</td>\n",
       "      <td>1</td>\n",
       "      <td>41.772790</td>\n",
       "      <td>-87.618193</td>\n",
       "      <td>POINT (-87.61819334612 41.772790345858)</td>\n",
       "    </tr>\n",
       "    <tr>\n",
       "      <th>1</th>\n",
       "      <td>1/30/2018 18:43</td>\n",
       "      <td>332.0</td>\n",
       "      <td>2018.0</td>\n",
       "      <td>1</td>\n",
       "      <td>41.766797</td>\n",
       "      <td>-87.585398</td>\n",
       "      <td>POINT (-87.58539765388 41.766797345858)</td>\n",
       "    </tr>\n",
       "    <tr>\n",
       "      <th>2</th>\n",
       "      <td>1/31/2018 1:45</td>\n",
       "      <td>332.0</td>\n",
       "      <td>2018.0</td>\n",
       "      <td>1</td>\n",
       "      <td>41.773760</td>\n",
       "      <td>-87.581308</td>\n",
       "      <td>POINT (-87.581307547471 41.773759668947)</td>\n",
       "    </tr>\n",
       "    <tr>\n",
       "      <th>3</th>\n",
       "      <td>2/1/2018 17:51</td>\n",
       "      <td>312.0</td>\n",
       "      <td>2018.0</td>\n",
       "      <td>2</td>\n",
       "      <td>41.778602</td>\n",
       "      <td>-87.609718</td>\n",
       "      <td>POINT (-87.609718 41.7786015)</td>\n",
       "    </tr>\n",
       "    <tr>\n",
       "      <th>4</th>\n",
       "      <td>2/1/2018 19:29</td>\n",
       "      <td>321.0</td>\n",
       "      <td>2018.0</td>\n",
       "      <td>2</td>\n",
       "      <td>41.773794</td>\n",
       "      <td>-87.608251</td>\n",
       "      <td>POINT (-87.608250547471 41.773793668947)</td>\n",
       "    </tr>\n",
       "  </tbody>\n",
       "</table>\n",
       "</div>"
      ],
      "text/plain": [
       "              DATE   BEAT    YEAR  MONTH   LATITUDE  LONGITUDE  \\\n",
       "0  1/29/2018 15:27  322.0  2018.0      1  41.772790 -87.618193   \n",
       "1  1/30/2018 18:43  332.0  2018.0      1  41.766797 -87.585398   \n",
       "2   1/31/2018 1:45  332.0  2018.0      1  41.773760 -87.581308   \n",
       "3   2/1/2018 17:51  312.0  2018.0      2  41.778602 -87.609718   \n",
       "4   2/1/2018 19:29  321.0  2018.0      2  41.773794 -87.608251   \n",
       "\n",
       "                                   LOCATION  \n",
       "0   POINT (-87.61819334612 41.772790345858)  \n",
       "1   POINT (-87.58539765388 41.766797345858)  \n",
       "2  POINT (-87.581307547471 41.773759668947)  \n",
       "3             POINT (-87.609718 41.7786015)  \n",
       "4  POINT (-87.608250547471 41.773793668947)  "
      ]
     },
     "execution_count": 5,
     "metadata": {},
     "output_type": "execute_result"
    }
   ],
   "source": [
    "shot_data_raw.head()"
   ]
  },
  {
   "cell_type": "markdown",
   "metadata": {},
   "source": [
    "5) Read in the shooting event data."
   ]
  },
  {
   "cell_type": "code",
   "execution_count": 6,
   "metadata": {},
   "outputs": [
    {
     "data": {
      "text/plain": [
       "Index(['ID', 'Case Number', 'Date', 'Block', 'IUCR', 'Primary Type',\n",
       "       'Description', 'Location Description', 'Arrest', 'Domestic', 'Beat',\n",
       "       'District', 'Ward', 'Community Area', 'FBI Code', 'X Coordinate',\n",
       "       'Y Coordinate', 'Year', 'Updated On', 'Latitude', 'Longitude',\n",
       "       'Location', 'MONTH'],\n",
       "      dtype='object')"
      ]
     },
     "execution_count": 6,
     "metadata": {},
     "output_type": "execute_result"
    }
   ],
   "source": [
    "hom_data_raw = pd.read_csv('Shooting_data.csv')\n",
    "for i in hom_data_raw.index:\n",
    "    x=hom_data_raw.loc[i,\"Date\"]\n",
    "    x1=x.split(' ')\n",
    "    x2=x1[0].split('/')\n",
    "    hom_data_raw.loc[i,'MONTH'] =int(x2[0])\n",
    "hom_data_raw.columns"
   ]
  },
  {
   "cell_type": "markdown",
   "metadata": {},
   "source": [
    "6) Filter the shooting data for D3 and create a column \"spotted\" to indicate which events are linked to shotspotter incidents (note that there might be several linked shooting and shotspotter incidents based on the threshold values)."
   ]
  },
  {
   "cell_type": "code",
   "execution_count": 7,
   "metadata": {},
   "outputs": [
    {
     "data": {
      "text/html": [
       "<div>\n",
       "<style scoped>\n",
       "    .dataframe tbody tr th:only-of-type {\n",
       "        vertical-align: middle;\n",
       "    }\n",
       "\n",
       "    .dataframe tbody tr th {\n",
       "        vertical-align: top;\n",
       "    }\n",
       "\n",
       "    .dataframe thead th {\n",
       "        text-align: right;\n",
       "    }\n",
       "</style>\n",
       "<table border=\"1\" class=\"dataframe\">\n",
       "  <thead>\n",
       "    <tr style=\"text-align: right;\">\n",
       "      <th></th>\n",
       "      <th>DATE</th>\n",
       "      <th>BEAT</th>\n",
       "      <th>YEAR</th>\n",
       "      <th>MONTH</th>\n",
       "      <th>DISTRICT</th>\n",
       "      <th>LATITUDE</th>\n",
       "      <th>LONGITUDE</th>\n",
       "      <th>LOCATION</th>\n",
       "      <th>spotted</th>\n",
       "    </tr>\n",
       "  </thead>\n",
       "  <tbody>\n",
       "    <tr>\n",
       "      <th>0</th>\n",
       "      <td>1/2/2018 14:55</td>\n",
       "      <td>312</td>\n",
       "      <td>2018</td>\n",
       "      <td>1.0</td>\n",
       "      <td>3</td>\n",
       "      <td>41.777465</td>\n",
       "      <td>-87.617264</td>\n",
       "      <td>(41.777464689, -87.617264087)</td>\n",
       "      <td>0</td>\n",
       "    </tr>\n",
       "    <tr>\n",
       "      <th>1</th>\n",
       "      <td>1/6/2018 11:12</td>\n",
       "      <td>331</td>\n",
       "      <td>2018</td>\n",
       "      <td>1.0</td>\n",
       "      <td>3</td>\n",
       "      <td>41.769885</td>\n",
       "      <td>-87.568652</td>\n",
       "      <td>(41.769884528, -87.568652033)</td>\n",
       "      <td>0</td>\n",
       "    </tr>\n",
       "  </tbody>\n",
       "</table>\n",
       "</div>"
      ],
      "text/plain": [
       "             DATE  BEAT  YEAR  MONTH  DISTRICT   LATITUDE  LONGITUDE  \\\n",
       "0  1/2/2018 14:55   312  2018    1.0         3  41.777465 -87.617264   \n",
       "1  1/6/2018 11:12   331  2018    1.0         3  41.769885 -87.568652   \n",
       "\n",
       "                        LOCATION  spotted  \n",
       "0  (41.777464689, -87.617264087)        0  \n",
       "1  (41.769884528, -87.568652033)        0  "
      ]
     },
     "execution_count": 7,
     "metadata": {},
     "output_type": "execute_result"
    }
   ],
   "source": [
    "hom_data_raw= hom_data_raw[['Date','Beat','Year','MONTH','District','Latitude', 'Longitude','Location']]\n",
    "hom_data_raw= hom_data_raw[hom_data_raw['District'] == int(district)]\n",
    "hom_data_raw= hom_data_raw.reset_index(drop=True)\n",
    "hom_data_raw['spotted'] = 0\n",
    "hom_data_raw.columns=[\"DATE\", \"BEAT\", \"YEAR\",\"MONTH\",\"DISTRICT\",\"LATITUDE\",\"LONGITUDE\",\"LOCATION\",\"spotted\"]\n",
    "hom_data_raw.head(2)"
   ]
  },
  {
   "cell_type": "code",
   "execution_count": 8,
   "metadata": {},
   "outputs": [
    {
     "data": {
      "text/html": [
       "<div>\n",
       "<style scoped>\n",
       "    .dataframe tbody tr th:only-of-type {\n",
       "        vertical-align: middle;\n",
       "    }\n",
       "\n",
       "    .dataframe tbody tr th {\n",
       "        vertical-align: top;\n",
       "    }\n",
       "\n",
       "    .dataframe thead th {\n",
       "        text-align: right;\n",
       "    }\n",
       "</style>\n",
       "<table border=\"1\" class=\"dataframe\">\n",
       "  <thead>\n",
       "    <tr style=\"text-align: right;\">\n",
       "      <th></th>\n",
       "      <th>DATE</th>\n",
       "      <th>BEAT</th>\n",
       "      <th>YEAR</th>\n",
       "      <th>MONTH</th>\n",
       "      <th>DISTRICT</th>\n",
       "      <th>LATITUDE</th>\n",
       "      <th>LONGITUDE</th>\n",
       "      <th>LOCATION</th>\n",
       "      <th>spotted</th>\n",
       "    </tr>\n",
       "  </thead>\n",
       "  <tbody>\n",
       "    <tr>\n",
       "      <th>0</th>\n",
       "      <td>1/2/2018 14:55</td>\n",
       "      <td>312</td>\n",
       "      <td>2018</td>\n",
       "      <td>1.0</td>\n",
       "      <td>3</td>\n",
       "      <td>41.777465</td>\n",
       "      <td>-87.617264</td>\n",
       "      <td>(41.777464689, -87.617264087)</td>\n",
       "      <td>0</td>\n",
       "    </tr>\n",
       "    <tr>\n",
       "      <th>1</th>\n",
       "      <td>1/6/2018 11:12</td>\n",
       "      <td>331</td>\n",
       "      <td>2018</td>\n",
       "      <td>1.0</td>\n",
       "      <td>3</td>\n",
       "      <td>41.769885</td>\n",
       "      <td>-87.568652</td>\n",
       "      <td>(41.769884528, -87.568652033)</td>\n",
       "      <td>0</td>\n",
       "    </tr>\n",
       "    <tr>\n",
       "      <th>2</th>\n",
       "      <td>1/6/2018 13:00</td>\n",
       "      <td>321</td>\n",
       "      <td>2018</td>\n",
       "      <td>1.0</td>\n",
       "      <td>3</td>\n",
       "      <td>41.772273</td>\n",
       "      <td>-87.609385</td>\n",
       "      <td>(41.772272507, -87.609385104)</td>\n",
       "      <td>0</td>\n",
       "    </tr>\n",
       "    <tr>\n",
       "      <th>3</th>\n",
       "      <td>2/2/2018 0:04</td>\n",
       "      <td>323</td>\n",
       "      <td>2018</td>\n",
       "      <td>2.0</td>\n",
       "      <td>3</td>\n",
       "      <td>41.761450</td>\n",
       "      <td>-87.623211</td>\n",
       "      <td>(41.761450225, -87.623211368)</td>\n",
       "      <td>0</td>\n",
       "    </tr>\n",
       "    <tr>\n",
       "      <th>4</th>\n",
       "      <td>2/13/2018 0:57</td>\n",
       "      <td>322</td>\n",
       "      <td>2018</td>\n",
       "      <td>2.0</td>\n",
       "      <td>3</td>\n",
       "      <td>41.769326</td>\n",
       "      <td>-87.616119</td>\n",
       "      <td>(41.769326209, -87.616119242)</td>\n",
       "      <td>0</td>\n",
       "    </tr>\n",
       "  </tbody>\n",
       "</table>\n",
       "</div>"
      ],
      "text/plain": [
       "             DATE  BEAT  YEAR  MONTH  DISTRICT   LATITUDE  LONGITUDE  \\\n",
       "0  1/2/2018 14:55   312  2018    1.0         3  41.777465 -87.617264   \n",
       "1  1/6/2018 11:12   331  2018    1.0         3  41.769885 -87.568652   \n",
       "2  1/6/2018 13:00   321  2018    1.0         3  41.772273 -87.609385   \n",
       "3   2/2/2018 0:04   323  2018    2.0         3  41.761450 -87.623211   \n",
       "4  2/13/2018 0:57   322  2018    2.0         3  41.769326 -87.616119   \n",
       "\n",
       "                        LOCATION  spotted  \n",
       "0  (41.777464689, -87.617264087)        0  \n",
       "1  (41.769884528, -87.568652033)        0  \n",
       "2  (41.772272507, -87.609385104)        0  \n",
       "3  (41.761450225, -87.623211368)        0  \n",
       "4  (41.769326209, -87.616119242)        0  "
      ]
     },
     "execution_count": 8,
     "metadata": {},
     "output_type": "execute_result"
    }
   ],
   "source": [
    "hom_data_raw.head()"
   ]
  },
  {
   "cell_type": "markdown",
   "metadata": {},
   "source": [
    "Beats of District 3: \n",
    "\n",
    "311\n",
    "312\n",
    "313\n",
    "314\n",
    "321\n",
    "322\n",
    "323\n",
    "324\n",
    "331\n",
    "332\n",
    "333\n",
    "334"
   ]
  },
  {
   "cell_type": "markdown",
   "metadata": {},
   "source": [
    "The following code allows us to obtain linkage ratios and make a chart for each of the beats. There are 4 places indicated with comments \"#BEAT CHANGE HERE\" where you can change which beat you are working with to obtain the graph for a specific beat. "
   ]
  },
  {
   "cell_type": "code",
   "execution_count": 9,
   "metadata": {},
   "outputs": [],
   "source": [
    "!!pip install geopy\n",
    "from geopy import distance\n",
    "import datetime\n",
    "import re"
   ]
  },
  {
   "cell_type": "code",
   "execution_count": 10,
   "metadata": {},
   "outputs": [
    {
     "name": "stdout",
     "output_type": "stream",
     "text": [
      "Distance between events is  3.2000326883527346  km\n",
      "2018-02-02 00:04:00\n",
      "2018-01-30 18:43:00\n",
      "Time between events is  3201\n"
     ]
    }
   ],
   "source": [
    "pt1 = [hom_data_raw.loc[3,\"LATITUDE\"],hom_data_raw.loc[3,\"LONGITUDE\"]]\n",
    "pt2 = [shot_data_raw.loc[1,\"LATITUDE\"],shot_data_raw.loc[1,\"LONGITUDE\"]]\n",
    "print(\"Distance between events is \", distance.distance(pt1, pt2).km, ' km')\n",
    "strdate1 = hom_data_raw.loc[3,\"DATE\"]\n",
    "strdate2 = shot_data_raw.loc[1,\"DATE\"]\n",
    "date1 = datetime.datetime.strptime(strdate1, \"%m/%d/%Y %H:%M\")\n",
    "date2 = datetime.datetime.strptime(strdate2, \"%m/%d/%Y %H:%M\")\n",
    "dt = date1-date2\n",
    "print(date1)\n",
    "print(date2)\n",
    "print(\"Time between events is \", int(dt.total_seconds()/60))"
   ]
  },
  {
   "cell_type": "code",
   "execution_count": 11,
   "metadata": {},
   "outputs": [],
   "source": [
    "def LD(hom_data,shot_data,year,month,delta,tau,beat):\n",
    "    #install libraries\n",
    "    from geopy import distance\n",
    "    import datetime\n",
    "    #get the threshold values\n",
    "    delta = delta\n",
    "    tau = tau\n",
    "    #filter the data\n",
    "    hom_data = hom_data[hom_data[\"YEAR\"]==year]\n",
    "    shot_data = shot_data[shot_data[\"YEAR\"]==year]\n",
    "    hom_data = hom_data[hom_data[\"MONTH\"]==month]\n",
    "    shot_data = shot_data[shot_data[\"MONTH\"]==month]\n",
    "    hom_data = hom_data[hom_data[\"BEAT\"]==beat]\n",
    "    shot_data = shot_data[shot_data[\"BEAT\"]==beat]\n",
    "    shot_data = shot_data.reset_index(drop = True)\n",
    "    hom_data = hom_data.reset_index(drop=True)\n",
    "    #define the function to determine linkage of shotspotter and shooting incidents based on the threshold values\n",
    "    def linked(P, T, delta, tau):\n",
    "        for k in range(P.shape[0]):\n",
    "            for q in range(P.shape[1]):\n",
    "                if P[k][q] < delta and T[k][q] < tau and T[k][q] >= 0:\n",
    "                    hom_data.loc[k, 'spotted'] = hom_data.loc[k,'spotted']+ 1\n",
    "    #Create the P and T matrices\n",
    "    P = np.zeros((hom_data.shape[0], shot_data.shape[0]))\n",
    "    T = np.zeros((hom_data.shape[0], shot_data.shape[0]))\n",
    "    for i in hom_data.index:\n",
    "        for j in shot_data.index:\n",
    "            location1 = hom_data.loc[i,\"LOCATION\"]\n",
    "            location2 = shot_data.loc[j,\"LOCATION\"]\n",
    "            a1 = location1.split(' ')\n",
    "            a2 = location2.split(' ')\n",
    "            pt1 = [hom_data.loc[i,\"LATITUDE\"],hom_data.loc[i,\"LONGITUDE\"]]\n",
    "            pt2 = [shot_data.loc[j,\"LATITUDE\"],shot_data.loc[j,\"LONGITUDE\"]]\n",
    "            P[i][j] = distance.distance(pt1, pt2).km\n",
    "            strdate1 = hom_data.loc[i,\"DATE\"]\n",
    "            strdate2 = shot_data.loc[j,\"DATE\"]\n",
    "            date1 = datetime.datetime.strptime(strdate1, \"%m/%d/%Y %H:%M\")\n",
    "            date2 = datetime.datetime.strptime(strdate2, \"%m/%d/%Y %H:%M\")\n",
    "            dt = date1-date2\n",
    "            T[i][j] = int(dt.total_seconds() / 60)\n",
    "    #Apply the function linked to the P and T matrices\n",
    "    linked(P,T,delta,tau)\n",
    "    #return the linking distribution\n",
    "    return hom_data['spotted'].value_counts()"
   ]
  },
  {
   "cell_type": "code",
   "execution_count": 12,
   "metadata": {},
   "outputs": [],
   "source": [
    "def linkageratio(year,delta,tau,hom_data_raw,shot_data_raw,beat):\n",
    "    tot= [[]] * 12\n",
    "    linked = [[]] * 12\n",
    "    ratio = [[]]*12\n",
    "    L = [[]]*12\n",
    "    for mo in np.arange(0,12,1):\n",
    "        L[mo]=LD(hom_data_raw,shot_data_raw,year,mo+1,delta,tau,beat)\n",
    "        tot[mo] = np.sum(L[mo])\n",
    "        if 0 in L[mo].index:\n",
    "            linked[mo] = tot[mo]-L[mo][0]\n",
    "        else:\n",
    "            linked[mo] = tot[mo]\n",
    "        if tot[mo]>0:\n",
    "            ratio[mo] = linked[mo]/tot[mo]\n",
    "        else:\n",
    "            ratio[mo]=0\n",
    "    return [ratio,linked,tot]"
   ]
  },
  {
   "cell_type": "code",
   "execution_count": 13,
   "metadata": {},
   "outputs": [],
   "source": [
    "#use to store specified year linkage ratios. linked shooting incidents, and total shooting incidents\n",
    "yrtot= [[]] * 4\n",
    "yrlinked=[[]]*4\n",
    "yrratio=[[]]*4"
   ]
  },
  {
   "cell_type": "code",
   "execution_count": 14,
   "metadata": {},
   "outputs": [
    {
     "data": {
      "text/plain": [
       "[[0.0, 0, 0, 1.0, 0, 0.0, 0.5, 0.3333333333333333, 0.5, 0, 0.0, 0],\n",
       " [0, 0, 0, 1, 0, 0, 2, 1, 1, 0, 0, 0],\n",
       " [1, 0, 0, 1, 0, 3, 4, 3, 2, 0, 1, 0]]"
      ]
     },
     "execution_count": 14,
     "metadata": {},
     "output_type": "execute_result"
    }
   ],
   "source": [
    "linkageratio(2020,delta,tau,hom_data_raw,shot_data_raw,beat)"
   ]
  },
  {
   "cell_type": "code",
   "execution_count": 15,
   "metadata": {},
   "outputs": [],
   "source": [
    "for i in np.arange(0,4,1):\n",
    "    [yrratio[i],yrlinked[i],yrtot[i]]=linkageratio(2018+i,delta,tau,hom_data_raw,shot_data_raw,beat)"
   ]
  },
  {
   "cell_type": "markdown",
   "metadata": {},
   "source": [
    "Annual Summaries:  total number of shootings, total number linked, percentage linked"
   ]
  },
  {
   "cell_type": "code",
   "execution_count": 16,
   "metadata": {},
   "outputs": [
    {
     "name": "stdout",
     "output_type": "stream",
     "text": [
      "[3, 2, 15, 15]\n",
      "[3, 1, 5, 9]\n",
      "[100.0, 50.0, 33.333333333333336, 60.0]\n"
     ]
    }
   ],
   "source": [
    "total_shoot=[0,0,0,0]\n",
    "total_linked=[0,0,0,0]\n",
    "percentage_linked=[0,0,0,0]\n",
    "for yr in np.arange(0,4,1):\n",
    "    for i in np.arange(0,len(yrtot[yr]),1):\n",
    "        if yrtot[yr][i]>0:\n",
    "            total_shoot[yr]=total_shoot[yr]+yrtot[yr][i]\n",
    "            total_linked[yr]=total_linked[yr]+yrlinked[yr][i]\n",
    "    percentage_linked[yr]=100*total_linked[yr]/total_shoot[yr]\n",
    "print(total_shoot)\n",
    "print(total_linked)\n",
    "print(percentage_linked)"
   ]
  },
  {
   "cell_type": "code",
   "execution_count": 17,
   "metadata": {},
   "outputs": [
    {
     "name": "stdout",
     "output_type": "stream",
     "text": [
      "6.666666666666667\n",
      "3.0\n",
      "45.0\n"
     ]
    }
   ],
   "source": [
    "#3 year (2018-2020) averages\n",
    "Three_year_mean_total_shootings=(total_shoot[0]+total_shoot[1]+total_shoot[2])/3\n",
    "Three_year_mean_total_linked=(total_linked[0]+total_linked[1]+total_linked[2])/3\n",
    "Three_year_mean_percent_linked=100*Three_year_mean_total_linked/Three_year_mean_total_shootings\n",
    "print(Three_year_mean_total_shootings)\n",
    "print(Three_year_mean_total_linked)\n",
    "print(Three_year_mean_percent_linked)"
   ]
  },
  {
   "cell_type": "code",
   "execution_count": 18,
   "metadata": {},
   "outputs": [
    {
     "name": "stdout",
     "output_type": "stream",
     "text": [
      "[0.33333333 0.         0.         0.33333333 0.33333333 1.66666667\n",
      " 1.33333333 1.         0.66666667 0.         0.33333333 0.66666667]\n",
      "[0.         0.         0.         0.33333333 0.         0.66666667\n",
      " 0.66666667 0.33333333 0.33333333 0.         0.         0.66666667]\n"
     ]
    }
   ],
   "source": [
    "x = np.arange(0, 12)\n",
    "avgtot = np.add(np.add(yrtot[0],yrtot[1],),yrtot[2])/3\n",
    "avglinked = np.add(np.add(yrlinked[0],yrlinked[1],),yrlinked[2])/3\n",
    "print(avgtot)\n",
    "print(avglinked)"
   ]
  },
  {
   "cell_type": "markdown",
   "metadata": {},
   "source": [
    "<h3>Beat Plots </h3>\n"
   ]
  },
  {
   "cell_type": "code",
   "execution_count": 19,
   "metadata": {},
   "outputs": [
    {
     "data": {
      "image/png": "[encoded data removed]",
      "text/plain": [
       "<matplotlib.figure.Figure at 0x26f9e1c3400>"
      ]
     },
     "metadata": {
      "needs_background": "light"
     },
     "output_type": "display_data"
    }
   ],
   "source": [
    "plt.rc('font', size=10)\n",
    "plt.figure(figsize=[10,5])\n",
    "\n",
    "linked= [(g + h+i) / 3 for g, h,i in zip(yrlinked[0],yrlinked[1],yrlinked[2])]\n",
    "total= [(g + h+i) / 3 for g, h,i in zip(yrtot[0],yrtot[1],yrtot[2])]\n",
    "ratio=[[]]*12\n",
    "for i in np.arange(0,len(total),1):\n",
    "    if total[i]>0:\n",
    "        ratio[i]=linked[i]/total[i]\n",
    "    else:\n",
    "        ratio[i]=0\n",
    "\n",
    "plt.bar(x-.15,total,width = .3,color = 'grey')\n",
    "plt.bar(x-.15,linked,width = .3,color = 'grey',hatch=\"//////\")\n",
    "plt.bar(x+.15,yrtot[3],width = .3,color = 'red')\n",
    "plt.bar(x+.15,yrlinked[3],width = .3,color = 'red',hatch = \"....\")\n",
    "#Plot 2018-2020 average\n",
    "\n",
    "for j in np.arange(0,12,1):        \n",
    "    plt.text(j-.35,total[j]+.1,str(int(round(ratio[j]*100,0)))+'%',size = 7)\n",
    "for j in np.arange(0,11,1):\n",
    "        plt.text(j,yrtot[3][j]+.1,str(int(round(yrratio[3][j]*100,0)))+'%',size = 7)\n",
    "\n",
    "classes=[\"JAN\",\"FEB\",\"MAR\",\"APR\",\"MAY\",\"JUNE\",\"JULY\",\"AUG\",\"SEP\",\"OCT\",\"NOV\",\"DEC\"]\n",
    "ps = np.arange(len(classes))\n",
    "plt.xticks(ps, classes, alpha=0.7)\n",
    "plt.xlabel('Month')\n",
    "plt.ylabel('Total Number Shooting Events')\n",
    "plt.ylim(0,5.9)\n",
    "plt.title(\"D3 Shotspotter Linkage Ratios Beat \"+ str(beat),size=14) \n",
    "dely=0\n",
    "if beat == 313:\n",
    "    dely=1.75\n",
    "\n",
    "plt.legend(['2018-2020 Average Total','2018-2020 Average Linked','2021 Total','2021 Linked'])\n",
    "plt.text(-.9,5.7-dely,'2018-20 Mean Monthly Shooting='+str(round(Three_year_mean_total_shootings/12,2)),size =9)\n",
    "plt.text(-.9,5.5-dely,'2018-20 Mean %Shootings Linked ='+str(round(Three_year_mean_percent_linked,1))+'%',size = 9)\n",
    "plt.text(-.9,5.3-dely,'2021 Mean Monthly Shooting='+str(round(np.mean(yrtot[3]),2)),size =9)\n",
    "plt.text(-.9,5.1-dely,'2021 Mean %Shootings Linked = '+str(round(percentage_linked[3],1)),size = 9) #computed manually from next cell\n",
    "plt.savefig(\"D3Beat\"+str(beat)+\".png\") "
   ]
  },
  {
   "cell_type": "markdown",
   "metadata": {},
   "source": [
    "###### "
   ]
  }
 ],
 "metadata": {
  "kernelspec": {
   "display_name": "Python 3",
   "language": "python",
   "name": "python3"
  },
  "language_info": {
   "codemirror_mode": {
    "name": "ipython",
    "version": 3
   },
   "file_extension": ".py",
   "mimetype": "text/x-python",
   "name": "python",
   "nbconvert_exporter": "python",
   "pygments_lexer": "ipython3",
   "version": "3.6.4"
  }
 },
 "nbformat": 4,
 "nbformat_minor": 4
}
